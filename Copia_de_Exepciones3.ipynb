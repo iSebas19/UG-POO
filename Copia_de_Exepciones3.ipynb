{
  "nbformat": 4,
  "nbformat_minor": 0,
  "metadata": {
    "colab": {
      "name": "Copia de Exepciones",
      "provenance": [],
      "include_colab_link": true
    },
    "kernelspec": {
      "name": "python3",
      "display_name": "Python 3"
    },
    "language_info": {
      "name": "python"
    }
  },
  "cells": [
    {
      "cell_type": "markdown",
      "metadata": {
        "id": "view-in-github",
        "colab_type": "text"
      },
      "source": [
        "<a href=\"https://colab.research.google.com/github/iSebas19/UG-POO/blob/main/Copia_de_Exepciones3.ipynb\" target=\"_parent\"><img src=\"https://colab.research.google.com/assets/colab-badge.svg\" alt=\"Open In Colab\"/></a>"
      ]
    },
    {
      "cell_type": "code",
      "execution_count": 17,
      "metadata": {
        "id": "E4RkxgKRNgsv"
      },
      "outputs": [],
      "source": [
        "def dividir(num,div):\n",
        "  return num/div"
      ]
    },
    {
      "cell_type": "code",
      "source": [
        "dividir(2,0)"
      ],
      "metadata": {
        "id": "SASNHxFbNr8r",
        "colab": {
          "base_uri": "https://localhost:8080/",
          "height": 165
        },
        "outputId": "03d0607d-3195-4aad-b83c-4c35a5ad9eea"
      },
      "execution_count": 16,
      "outputs": [
        {
          "output_type": "error",
          "ename": "NameError",
          "evalue": "ignored",
          "traceback": [
            "\u001b[0;31m---------------------------------------------------------------------------\u001b[0m",
            "\u001b[0;31mNameError\u001b[0m                                 Traceback (most recent call last)",
            "\u001b[0;32m<ipython-input-16-2c182690bc82>\u001b[0m in \u001b[0;36m<module>\u001b[0;34m()\u001b[0m\n\u001b[0;32m----> 1\u001b[0;31m \u001b[0mdividir\u001b[0m\u001b[0;34m(\u001b[0m\u001b[0;36m2\u001b[0m\u001b[0;34m,\u001b[0m\u001b[0;36m0\u001b[0m\u001b[0;34m)\u001b[0m\u001b[0;34m\u001b[0m\u001b[0;34m\u001b[0m\u001b[0m\n\u001b[0m",
            "\u001b[0;31mNameError\u001b[0m: name 'dividir' is not defined"
          ]
        }
      ]
    },
    {
      "cell_type": "markdown",
      "source": [
        "## Ejercicio \n",
        "manejar ZeroDivisionError en Python\n"
      ],
      "metadata": {
        "id": "uo6cTgOoN-UR"
      }
    },
    {
      "cell_type": "markdown",
      "source": [
        "Podemos tratar esta división entre cero como una excepción, haciendo lo siguiente:\n",
        "\n",
        "* Desde el bloque try llama a la función dividir().\n",
        "* En el bloque except tendremos una excepción en caso de que div sea igual a cero.\n",
        "* En este ejemplo se hace una excepción a ZeroDivisionError (el tipo de error) el cual se especifica en except\n",
        "* Cuando se detecte el error ZeroDivisionError se ejecutara el bloque except donde pondremos un mensaje informando que se trató de dividir entre cero.\n",
        "\n",
        "[Código en Python](https://www.w3schools.com/python/python_try_except.asp)"
      ],
      "metadata": {
        "id": "E56E-nYdOHbg"
      }
    },
    {
      "cell_type": "code",
      "source": [
        "try:\n",
        "    res=dividir(2,0)\n",
        "    #imprimir resultado\n",
        "    print(res)\n",
        "except ZeroDivisionError:\n",
        "    # imprimir mensaje\n",
        "    print(\"Division por Cero\")"
      ],
      "metadata": {
        "id": "CdpxhRo3O04G",
        "colab": {
          "base_uri": "https://localhost:8080/",
          "height": 235
        },
        "outputId": "7e90c140-9b04-431b-b1d5-e670c2ddd93f"
      },
      "execution_count": 14,
      "outputs": [
        {
          "output_type": "error",
          "ename": "NameError",
          "evalue": "ignored",
          "traceback": [
            "\u001b[0;31m---------------------------------------------------------------------------\u001b[0m",
            "\u001b[0;31mNameError\u001b[0m                                 Traceback (most recent call last)",
            "\u001b[0;32m<ipython-input-14-de4b7203c78f>\u001b[0m in \u001b[0;36m<module>\u001b[0;34m()\u001b[0m\n\u001b[1;32m      1\u001b[0m \u001b[0;32mtry\u001b[0m\u001b[0;34m:\u001b[0m\u001b[0;34m\u001b[0m\u001b[0;34m\u001b[0m\u001b[0m\n\u001b[0;32m----> 2\u001b[0;31m     \u001b[0mres\u001b[0m\u001b[0;34m=\u001b[0m\u001b[0mdividir\u001b[0m\u001b[0;34m(\u001b[0m\u001b[0;36m2\u001b[0m\u001b[0;34m,\u001b[0m\u001b[0;36m0\u001b[0m\u001b[0;34m)\u001b[0m\u001b[0;34m\u001b[0m\u001b[0;34m\u001b[0m\u001b[0m\n\u001b[0m\u001b[1;32m      3\u001b[0m     \u001b[0;31m#imprimir resultado\u001b[0m\u001b[0;34m\u001b[0m\u001b[0;34m\u001b[0m\u001b[0;34m\u001b[0m\u001b[0m\n\u001b[1;32m      4\u001b[0m     \u001b[0mprint\u001b[0m\u001b[0;34m(\u001b[0m\u001b[0mres\u001b[0m\u001b[0;34m)\u001b[0m\u001b[0;34m\u001b[0m\u001b[0;34m\u001b[0m\u001b[0m\n\u001b[1;32m      5\u001b[0m \u001b[0;32mexcept\u001b[0m \u001b[0mZeroDivisionError\u001b[0m\u001b[0;34m:\u001b[0m\u001b[0;34m\u001b[0m\u001b[0;34m\u001b[0m\u001b[0m\n",
            "\u001b[0;31mNameError\u001b[0m: name 'dividir' is not defined"
          ]
        }
      ]
    }
  ]
}